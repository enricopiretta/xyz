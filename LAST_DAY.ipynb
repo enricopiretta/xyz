{
 "cells": [
  {
   "cell_type": "code",
   "execution_count": 4,
   "metadata": {},
   "outputs": [],
   "source": [
    "def getGuessedWord(secretWord, lettersGuessed):\n",
    "    '''\n",
    "    secretWord: string, the word the user is guessing\n",
    "    lettersGuessed: list, what letters have been guessed so far\n",
    "    returns: string, comprised of letters and underscores that represents\n",
    "      what letters in secretWord have been guessed so far.\n",
    "    '''\n",
    "    # FILL IN YOUR CODE HERE...\n",
    "    empty=''\n",
    "    for i in range(len(secretWord)):\n",
    "        if secretWord[i] in lettersGuessed:\n",
    "            empty = empty + secretWord[i]\n",
    "        else:\n",
    "            empty= empty + '_ '\n",
    "\n",
    "    return empty"
   ]
  },
  {
   "cell_type": "code",
   "execution_count": 6,
   "metadata": {},
   "outputs": [
    {
     "data": {
      "text/plain": [
       "'to_ o'"
      ]
     },
     "execution_count": 6,
     "metadata": {},
     "output_type": "execute_result"
    }
   ],
   "source": [
    "getGuessedWord('topo', ['a','t','o'])"
   ]
  },
  {
   "cell_type": "code",
   "execution_count": 5,
   "metadata": {},
   "outputs": [
    {
     "data": {
      "text/plain": [
       "'t_ p_ '"
      ]
     },
     "execution_count": 5,
     "metadata": {},
     "output_type": "execute_result"
    }
   ],
   "source": [
    "getGuessedWord('topo', 'abtp')"
   ]
  },
  {
   "cell_type": "code",
   "execution_count": 3,
   "metadata": {},
   "outputs": [
    {
     "name": "stdout",
     "output_type": "stream",
     "text": [
      "Loading word list from file...\n",
      "   55909 words loaded.\n"
     ]
    }
   ],
   "source": [
    "# Hangman game\n",
    "#\n",
    "\n",
    "# -----------------------------------\n",
    "# Helper code\n",
    "# You don't need to understand this helper code,\n",
    "# but you will have to know how to use the functions\n",
    "# (so be sure to read the docstrings!)\n",
    "\n",
    "import random\n",
    "\n",
    "WORDLIST_FILENAME = \"words.txt\"\n",
    "\n",
    "def loadWords():\n",
    "    \"\"\"\n",
    "    Returns a list of valid words. Words are strings of lowercase letters.\n",
    "    \n",
    "    Depending on the size of the word list, this function may\n",
    "    take a while to finish.\n",
    "    \"\"\"\n",
    "    print(\"Loading word list from file...\")\n",
    "    # inFile: file\n",
    "    inFile = open(WORDLIST_FILENAME, 'r')\n",
    "    # line: string\n",
    "    line = inFile.readline()\n",
    "    # wordlist: list of strings\n",
    "    wordlist = line.split()\n",
    "    print(\"  \", len(wordlist), \"words loaded.\")\n",
    "    return wordlist\n",
    "\n",
    "def chooseWord(wordlist):\n",
    "    \"\"\"\n",
    "    wordlist (list): list of words (strings)\n",
    "\n",
    "    Returns a word from wordlist at random\n",
    "    \"\"\"\n",
    "    return random.choice(wordlist)\n",
    "\n",
    "# end of helper code\n",
    "# -----------------------------------\n",
    "\n",
    "# Load the list of words into the variable wordlist\n",
    "# so that it can be accessed from anywhere in the program\n",
    "wordlist = loadWords()\n",
    "\n",
    "def isWordGuessed(secretWord, lettersGuessed):\n",
    "    '''\n",
    "    secretWord: string, the word the user is guessing\n",
    "    lettersGuessed: list, what letters have been guessed so far\n",
    "    returns: boolean, True if all the letters of secretWord are in lettersGuessed;\n",
    "      False otherwise\n",
    "    '''\n",
    "    # FILL IN YOUR CODE HERE...\n",
    "    for i in range(len(secretWord)):\n",
    "        if secretWord[i] in lettersGuessed:\n",
    "            pass\n",
    "        else:\n",
    "            return False\n",
    "    return True\n",
    "\n",
    "\n",
    "def getGuessedWord(secretWord, lettersGuessed):\n",
    "    '''\n",
    "    secretWord: string, the word the user is guessing\n",
    "    lettersGuessed: list, what letters have been guessed so far\n",
    "    returns: string, comprised of letters and underscores that represents\n",
    "      what letters in secretWord have been guessed so far.\n",
    "    '''\n",
    "    # FILL IN YOUR CODE HERE...\n",
    "    empty=''\n",
    "    for i in range(len(secretWord)):\n",
    "        if secretWord[i] in lettersGuessed:\n",
    "            empty = empty + secretWord[i]\n",
    "        else:\n",
    "            empty= empty + '_ '\n",
    "\n",
    "    return empty\n",
    "\n",
    "\n",
    "def getAvailableLetters(lettersGuessed):\n",
    "    '''\n",
    "    lettersGuessed: list, what letters have been guessed so far\n",
    "    returns: string, comprised of letters that represents what letters have not\n",
    "      yet been guessed.\n",
    "    '''\n",
    "    # FILL IN YOUR CODE HERE...\n",
    "    import string\n",
    "    dog = string.ascii_lowercase\n",
    "    empty = ''\n",
    "    for i in range(len(dog)):\n",
    "        if dog[i] not in lettersGuessed:\n",
    "            empty += dog[i]\n",
    "    return empty \n",
    "\n",
    "def hangman(secretWord):\n",
    "    '''\n",
    "    secretWord: string, the secret word to guess.\n",
    "\n",
    "    Starts up an interactive game of Hangman.\n",
    "\n",
    "    * At the start of the game, let the user know how many \n",
    "      letters the secretWord contains.\n",
    "\n",
    "    * Ask the user to supply one guess (i.e. letter) per round.\n",
    "\n",
    "    * The user should receive feedback immediately after each guess \n",
    "      about whether their guess appears in the computers word.\n",
    "\n",
    "    * After each round, you should also display to the user the \n",
    "      partially guessed word so far, as well as letters that the \n",
    "      user has not yet guessed.\n",
    "\n",
    "    Follows the other limitations detailed in the problem write-up.\n",
    "    '''\n",
    "    # FILL IN YOUR CODE HERE...\n",
    "    import string\n",
    "    total_letters = string.ascii_lowercase\n",
    "    lettersGuessed = ['']\n",
    "    availableLetters = getAvailableLetters(lettersGuessed)\n",
    "    word_so_far = getGuessedWord(secretWord, lettersGuessed)\n",
    "    n = 8\n",
    "    \n",
    "    print('Welcome to the game, Hangman!')\n",
    "    print('I am thinking of a word that is ', len(secretWord), 'letters long.')\n",
    "    print('-----------')\n",
    "    \n",
    "    while n > 0:\n",
    "        '''inizialize useful variable'''\n",
    "        \n",
    "        \n",
    "        print('You have', (n), 'guesses left.')\n",
    "        print('Available letters: ' + availableLetters)\n",
    "        a = input('Please guess a letter: ')\n",
    "        a = a.lower()\n",
    "        \n",
    "        if a not in availableLetters:\n",
    "            print(\"Oops! You've already guessed that letter: \" + word_so_far)\n",
    "            print('-----------')\n",
    "            \n",
    "        else:\n",
    "            n -= 1\n",
    "            lettersGuessed = lettersGuessed + [a]\n",
    "            availableLetters = getAvailableLetters(lettersGuessed)\n",
    "            word_so_far = getGuessedWord(secretWord, lettersGuessed)\n",
    "            \n",
    "            \n",
    "            if a in secretWord:\n",
    "                print('Good guess: ' + word_so_far)\n",
    "                print('-----------')\n",
    "                \n",
    "                if word_so_far == secretWord:\n",
    "                    return \"Congratulations, you won!\"\n",
    "                \n",
    "            else:\n",
    "                print(\"Oops! That letter is not in my word: \" + word_so_far)\n",
    "                print('-----------')\n",
    "                \n",
    "    return \"Sorry, you ran out of guesses. The word was else.\"\n",
    "            \n",
    "\n",
    "\n",
    "\n",
    "\n",
    "\n",
    "# When you've completed your hangman function, uncomment these two lines\n",
    "# and run this file to test! (hint: you might want to pick your own\n",
    "# secretWord while you're testing)\n",
    "\n",
    "# secretWord = chooseWord(wordlist).lower()\n",
    "# hangman(secretWord)\n"
   ]
  },
  {
   "cell_type": "code",
   "execution_count": 4,
   "metadata": {},
   "outputs": [
    {
     "name": "stdout",
     "output_type": "stream",
     "text": [
      "Welcome to the game, Hangman!\n",
      "I am thinking of a word that is  5 letters long.\n",
      "-----------\n",
      "You have 8 guesses left.\n",
      "Available letters: abcdefghijklmnopqrstuvwxyz\n",
      "Please guess a letter: p\n",
      "Good guess: p_ _ _ _ \n",
      "-----------\n",
      "You have 7 guesses left.\n",
      "Available letters: abcdefghijklmnoqrstuvwxyz\n",
      "Please guess a letter: a\n",
      "Good guess: pa_ _ a\n",
      "-----------\n",
      "You have 6 guesses left.\n",
      "Available letters: bcdefghijklmnoqrstuvwxyz\n",
      "Please guess a letter: a\n",
      "Oops! You've already guessed that letter: pa_ _ a\n",
      "-----------\n",
      "You have 6 guesses left.\n",
      "Available letters: bcdefghijklmnoqrstuvwxyz\n",
      "Please guess a letter: a\n",
      "Oops! You've already guessed that letter: pa_ _ a\n",
      "-----------\n",
      "You have 6 guesses left.\n",
      "Available letters: bcdefghijklmnoqrstuvwxyz\n",
      "Please guess a letter: p\n",
      "Oops! You've already guessed that letter: pa_ _ a\n",
      "-----------\n",
      "You have 6 guesses left.\n",
      "Available letters: bcdefghijklmnoqrstuvwxyz\n",
      "Please guess a letter: l\n",
      "Good guess: palla\n",
      "-----------\n"
     ]
    },
    {
     "data": {
      "text/plain": [
       "'Congratulations, you won!'"
      ]
     },
     "execution_count": 4,
     "metadata": {},
     "output_type": "execute_result"
    }
   ],
   "source": [
    "hangman('palla')"
   ]
  },
  {
   "cell_type": "code",
   "execution_count": null,
   "metadata": {},
   "outputs": [],
   "source": [
    "3"
   ]
  },
  {
   "cell_type": "code",
   "execution_count": null,
   "metadata": {},
   "outputs": [
    {
     "name": "stdout",
     "output_type": "stream",
     "text": [
      "Welcome to the game, Hangman!\n",
      "I am thinking of a word that is  9 letters long.\n",
      "-----------\n",
      "You have 8 guesses left.\n",
      "Available letters: abcdefghijklmnopqrstuvwxyz\n",
      "Please guess a letter: e\n",
      "Good guess: _ e_ _ _ e_ _ _ \n",
      "-----------\n",
      "You have 7 guesses left.\n",
      "Available letters: abcdfghijklmnopqrstuvwxyz\n",
      "Please guess a letter: t\n",
      "Good guess: te_ _ _ et_ _ \n",
      "-----------\n",
      "You have 6 guesses left.\n",
      "Available letters: abcdfghijklmnopqrsuvwxyz\n",
      "Please guess a letter: o\n",
      "Good guess: te_ _ _ eto_ \n",
      "-----------\n",
      "You have 5 guesses left.\n",
      "Available letters: abcdfghijklmnpqrsuvwxyz\n",
      "Please guess a letter: m\n",
      "Good guess: tem_ _ eto_ \n",
      "-----------\n",
      "You have 4 guesses left.\n",
      "Available letters: abcdfghijklnpqrsuvwxyz\n",
      "Please guess a letter: l\n",
      "Good guess: tem_ leto_ \n",
      "-----------\n",
      "You have 3 guesses left.\n",
      "Available letters: abcdfghijknpqrsuvwxyz\n",
      "Please guess a letter: p\n",
      "Good guess: templeto_ \n",
      "-----------\n",
      "You have 2 guesses left.\n",
      "Available letters: abcdfghijknqrsuvwxyz\n",
      "Please guess a letter: i\n"
     ]
    }
   ],
   "source": [
    "hangman('templeton')"
   ]
  }
 ],
 "metadata": {
  "kernelspec": {
   "display_name": "Python 3.6",
   "language": "python",
   "name": "python36"
  },
  "language_info": {
   "codemirror_mode": {
    "name": "ipython",
    "version": 3
   },
   "file_extension": ".py",
   "mimetype": "text/x-python",
   "name": "python",
   "nbconvert_exporter": "python",
   "pygments_lexer": "ipython3",
   "version": "3.6.3"
  }
 },
 "nbformat": 4,
 "nbformat_minor": 2
}
